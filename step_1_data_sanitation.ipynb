{
 "cells": [
  {
   "cell_type": "markdown",
   "metadata": {},
   "source": [
    "# Data Sanitation"
   ]
  },
  {
   "cell_type": "code",
   "execution_count": 1,
   "metadata": {},
   "outputs": [],
   "source": [
    "import pandas as pd"
   ]
  },
  {
   "cell_type": "code",
   "execution_count": 2,
   "metadata": {},
   "outputs": [],
   "source": [
    "# Define the data files\n",
    "brand_data_file = 'Data/brand_data.csv'\n",
    "user_data_file = 'Data/user_data.csv'\n",
    "interaction_data_file = 'Data/interaction_data.csv'\n",
    "\n",
    "# Import data files into dataframes\n",
    "brand_dataframe = pd.read_csv(brand_data_file)\n",
    "user_dataframe = pd.read_csv(user_data_file)\n",
    "interaction_dataframe = pd.read_csv(interaction_data_file)"
   ]
  },
  {
   "cell_type": "code",
   "execution_count": 3,
   "metadata": {},
   "outputs": [
    {
     "name": "stdout",
     "output_type": "stream",
     "text": [
      "Number of NaN values in brand data (before sanitisation):\n",
      "\n",
      "BRAND_ID                0\n",
      "TERRITORY_ID            0\n",
      "PRIMARY_CATEGORY        0\n",
      "DOMAIN_AUTHORITY        3\n",
      "TOTAL_PRODUCTS          0\n",
      "TOTAL_PRESS_RELEASES    0\n",
      "TOTAL_COLLABORATIONS    0\n",
      "HAS_FACEBOOK            0\n",
      "HAS_TWITTER             0\n",
      "HAS_PINTEREST           0\n",
      "HAS_INSTAGRAM           0\n",
      "IS_AN_AFFILIATE         0\n",
      "dtype: int64\n",
      "\n",
      "Number of NaN values in brand data (after sanitisation):\n",
      "\n",
      "BRAND_ID                0\n",
      "TERRITORY_ID            0\n",
      "PRIMARY_CATEGORY        0\n",
      "DOMAIN_AUTHORITY        0\n",
      "TOTAL_PRODUCTS          0\n",
      "TOTAL_PRESS_RELEASES    0\n",
      "TOTAL_COLLABORATIONS    0\n",
      "HAS_FACEBOOK            0\n",
      "HAS_TWITTER             0\n",
      "HAS_PINTEREST           0\n",
      "HAS_INSTAGRAM           0\n",
      "IS_AN_AFFILIATE         0\n",
      "dtype: int64\n"
     ]
    }
   ],
   "source": [
    "# Check for NaN values in the brands dataframe (before sanitisation)\n",
    "nan_values = brand_dataframe.isnull().sum()\n",
    "print(\"Number of NaN values in brand data (before sanitisation):\")\n",
    "print()\n",
    "print(nan_values)\n",
    "print()\n",
    "\n",
    "# Replace DOMAIN_AUTHORITY NaN values with the 1.0 (the data default)\n",
    "brand_dataframe.fillna(1.0, inplace=True)\n",
    "\n",
    "# Replace all 1.0 values with the 25% percentile of this column\n",
    "non_default_values = brand_dataframe[brand_dataframe['DOMAIN_AUTHORITY'] != 1.0]['DOMAIN_AUTHORITY']\n",
    "percentile_25 = non_default_values.quantile(0.25)\n",
    "brand_dataframe.loc[brand_dataframe['DOMAIN_AUTHORITY'] == 1.0, 'DOMAIN_AUTHORITY'] = percentile_25\n",
    "\n",
    "# Check for NaN values in the brands dataframe (after sanitisation)\n",
    "nan_values = brand_dataframe.isnull().sum()\n",
    "print(\"Number of NaN values in brand data (after sanitisation):\")\n",
    "print()\n",
    "print(nan_values)\n"
   ]
  },
  {
   "cell_type": "code",
   "execution_count": 4,
   "metadata": {},
   "outputs": [
    {
     "name": "stdout",
     "output_type": "stream",
     "text": [
      "Number of 0 values in relevant brand data fields (before sanitisation):\n",
      "\n",
      "BRAND_ID            0\n",
      "TERRITORY_ID        0\n",
      "PRIMARY_CATEGORY    0\n",
      "dtype: int64\n"
     ]
    }
   ],
   "source": [
    "# Check for values of 0 in the specified columns in the brand dataframe (before sanitisation)\n",
    "zero_values = (brand_dataframe[['BRAND_ID', 'TERRITORY_ID', 'PRIMARY_CATEGORY']] == 0).sum()\n",
    "print(\"Number of 0 values in relevant brand data fields (before sanitisation):\")\n",
    "print()\n",
    "print(zero_values)"
   ]
  },
  {
   "cell_type": "code",
   "execution_count": 5,
   "metadata": {},
   "outputs": [
    {
     "name": "stdout",
     "output_type": "stream",
     "text": [
      "Number of NaN values in user data (before sanitisation):\n",
      "\n",
      "USER_ID                 0\n",
      "TERRITORY_ID            0\n",
      "TYPE_IN_HOUSE           0\n",
      "TYPE_FREELANCE          0\n",
      "TOTAL_DOWNLOADS         0\n",
      "TOTAL_COLLABORATIONS    0\n",
      "HAS_FACEBOOK            0\n",
      "HAS_TWITTER             0\n",
      "HAS_PINTEREST           0\n",
      "HAS_INSTAGRAM           0\n",
      "USES_AFFILIATES         0\n",
      "dtype: int64\n"
     ]
    }
   ],
   "source": [
    "# Check for NaN values in the users dataframe (before sanitisation)\n",
    "nan_values = user_dataframe.isnull().sum()\n",
    "print(\"Number of NaN values in user data (before sanitisation):\")\n",
    "print()\n",
    "print(nan_values)"
   ]
  },
  {
   "cell_type": "code",
   "execution_count": 6,
   "metadata": {},
   "outputs": [
    {
     "name": "stdout",
     "output_type": "stream",
     "text": [
      "Number of 0 values in relevant user data fields (before sanitisation):\n",
      "\n",
      "USER_ID         0\n",
      "TERRITORY_ID    0\n",
      "dtype: int64\n"
     ]
    }
   ],
   "source": [
    "# Check for values of 0 in the specified columns in the user dataframe (before sanitisation)\n",
    "zero_values = (user_dataframe[['USER_ID', 'TERRITORY_ID']] == 0).sum()\n",
    "print(\"Number of 0 values in relevant user data fields (before sanitisation):\")\n",
    "print()\n",
    "print(zero_values)"
   ]
  },
  {
   "cell_type": "code",
   "execution_count": 7,
   "metadata": {},
   "outputs": [
    {
     "name": "stdout",
     "output_type": "stream",
     "text": [
      "Number of NaN values in interaction data (before sanitisation):\n",
      "\n",
      "BRAND_ID              0\n",
      "USER_ID               0\n",
      "TOTAL_INTERACTIONS    0\n",
      "dtype: int64\n"
     ]
    }
   ],
   "source": [
    "# Check for NaN values in the interactions dataframe (before sanitisation)\n",
    "nan_values = interaction_dataframe.isnull().sum()\n",
    "print(\"Number of NaN values in interaction data (before sanitisation):\")\n",
    "print()\n",
    "print(nan_values)"
   ]
  },
  {
   "cell_type": "code",
   "execution_count": 8,
   "metadata": {},
   "outputs": [
    {
     "name": "stdout",
     "output_type": "stream",
     "text": [
      "Number of 0 values in relevant interaction data fields (before sanitisation):\n",
      "\n",
      "BRAND_ID              0\n",
      "USER_ID               0\n",
      "TOTAL_INTERACTIONS    0\n",
      "dtype: int64\n"
     ]
    }
   ],
   "source": [
    "# Check for values of 0 in the specified columns in the interaction dataframe (before sanitisation)\n",
    "zero_values = (interaction_dataframe[['BRAND_ID', 'USER_ID', 'TOTAL_INTERACTIONS']] == 0).sum()\n",
    "print(\"Number of 0 values in relevant interaction data fields (before sanitisation):\")\n",
    "print()\n",
    "print(zero_values)"
   ]
  },
  {
   "cell_type": "code",
   "execution_count": 9,
   "metadata": {},
   "outputs": [],
   "source": [
    "# Ensure correct data types on brand dataframes\n",
    "brand_dataframe = brand_dataframe.astype({\n",
    "    'BRAND_ID': int,\n",
    "    'TERRITORY_ID': int,\n",
    "    'PRIMARY_CATEGORY': int,\n",
    "    'DOMAIN_AUTHORITY': float,\n",
    "    'TOTAL_PRODUCTS': int,\n",
    "    'TOTAL_PRESS_RELEASES': int,\n",
    "    'TOTAL_COLLABORATIONS': int,\n",
    "    'HAS_FACEBOOK': bool,\n",
    "    'HAS_TWITTER': bool,\n",
    "    'HAS_PINTEREST': bool,\n",
    "    'HAS_INSTAGRAM': bool,\n",
    "    'IS_AN_AFFILIATE': bool\n",
    "})\n",
    "\n",
    "# Ensure correct data types on user dataframes\n",
    "user_dataframe = user_dataframe.astype({\n",
    "    'USER_ID': int,\n",
    "    'TERRITORY_ID': int,\n",
    "    'TYPE_IN_HOUSE': bool,\n",
    "    'TYPE_FREELANCE': bool,\n",
    "    'TOTAL_DOWNLOADS': int,\n",
    "    'TOTAL_COLLABORATIONS': int,\n",
    "    'HAS_FACEBOOK': bool,\n",
    "    'HAS_TWITTER': bool,\n",
    "    'HAS_PINTEREST': bool,\n",
    "    'HAS_INSTAGRAM': bool,\n",
    "    'HAS_INSTAGRAM': bool,\n",
    "    'USES_AFFILIATES': bool\n",
    "})\n",
    "\n",
    "# Ensure correct data types on interaction dataframes\n",
    "interaction_dataframe = interaction_dataframe.astype({\n",
    "    'BRAND_ID': int,\n",
    "    'USER_ID': int,\n",
    "    'TOTAL_INTERACTIONS': int\n",
    "})"
   ]
  },
  {
   "cell_type": "code",
   "execution_count": 10,
   "metadata": {},
   "outputs": [],
   "source": [
    "# Define the sanitised data files\n",
    "brand_data_file = 'Data/brand_data_sanitised.csv'\n",
    "user_data_file = 'Data/user_data_sanitised.csv'\n",
    "interaction_data_file = 'Data/interaction_data_sanitised.csv'\n",
    "\n",
    "# Save brands DataFrame to CSV\n",
    "brand_dataframe.to_csv(brand_data_file, index=False)\n",
    "\n",
    "# Save users DataFrame to CSV\n",
    "user_dataframe.to_csv(user_data_file, index=False)\n",
    "\n",
    "# Save interactions DataFrame to CSV\n",
    "interaction_dataframe.to_csv(interaction_data_file, index=False)"
   ]
  }
 ],
 "metadata": {
  "kernelspec": {
   "display_name": "base",
   "language": "python",
   "name": "python3"
  },
  "language_info": {
   "codemirror_mode": {
    "name": "ipython",
    "version": 3
   },
   "file_extension": ".py",
   "mimetype": "text/x-python",
   "name": "python",
   "nbconvert_exporter": "python",
   "pygments_lexer": "ipython3",
   "version": "3.11.5"
  }
 },
 "nbformat": 4,
 "nbformat_minor": 2
}
