{
 "cells": [
  {
   "cell_type": "markdown",
   "metadata": {},
   "source": [
    "# Model Training"
   ]
  },
  {
   "cell_type": "code",
   "execution_count": 8,
   "metadata": {},
   "outputs": [],
   "source": [
    "from surprise import Dataset, Reader, KNNBasic\n",
    "from surprise.model_selection import train_test_split, cross_validate\n",
    "from surprise import accuracy\n",
    "import pandas as pd\n",
    "import pickle"
   ]
  },
  {
   "cell_type": "code",
   "execution_count": 9,
   "metadata": {},
   "outputs": [],
   "source": [
    "# Define the data files\n",
    "interaction_data_file = 'Data/interaction_data_prepared.csv'\n",
    "\n",
    "# Import data file into dataframe\n",
    "interaction_dataframe = pd.read_csv(interaction_data_file)"
   ]
  },
  {
   "cell_type": "code",
   "execution_count": 10,
   "metadata": {},
   "outputs": [
    {
     "name": "stdout",
     "output_type": "stream",
     "text": [
      "Computing the msd similarity matrix...\n",
      "Done computing similarity matrix.\n"
     ]
    },
    {
     "data": {
      "text/plain": [
       "<surprise.prediction_algorithms.knns.KNNBasic at 0x160ee48d0>"
      ]
     },
     "execution_count": 10,
     "metadata": {},
     "output_type": "execute_result"
    }
   ],
   "source": [
    "# Prepare data for Surprise using the weighted interactions\n",
    "reader = Reader(rating_scale=(interaction_dataframe['SCORE'].min(), interaction_dataframe['SCORE'].max()))\n",
    "data = Dataset.load_from_df(interaction_dataframe[['USER_ID', 'BRAND_ID', 'SCORE']], reader)\n",
    "\n",
    "# Split the data into train and test sets\n",
    "trainset, testset = train_test_split(data, test_size=0.25)\n",
    "\n",
    "# Define the best KNN model parameters\n",
    "best_knn_params = {\n",
    "    'k': 10,\n",
    "    'sim_options': {\n",
    "        'name': 'msd',\n",
    "        'user_based': False\n",
    "    }\n",
    "}\n",
    "\n",
    "# Initialize the KNN model with the best parameters\n",
    "best_knn = KNNBasic(k=best_knn_params['k'], sim_options=best_knn_params['sim_options'])\n",
    "\n",
    "# Train the model on the training set\n",
    "best_knn.fit(trainset)"
   ]
  },
  {
   "cell_type": "code",
   "execution_count": 11,
   "metadata": {},
   "outputs": [
    {
     "name": "stdout",
     "output_type": "stream",
     "text": [
      "Computing the msd similarity matrix...\n",
      "Done computing similarity matrix.\n",
      "Computing the msd similarity matrix...\n",
      "Done computing similarity matrix.\n",
      "Computing the msd similarity matrix...\n",
      "Done computing similarity matrix.\n",
      "Computing the msd similarity matrix...\n",
      "Done computing similarity matrix.\n",
      "Computing the msd similarity matrix...\n",
      "Done computing similarity matrix.\n",
      "Evaluating RMSE, MAE of algorithm KNNBasic on 5 split(s).\n",
      "\n",
      "                  Fold 1  Fold 2  Fold 3  Fold 4  Fold 5  Mean    Std     \n",
      "RMSE (testset)    0.1723  0.1719  0.1705  0.1695  0.1711  0.1711  0.0010  \n",
      "MAE (testset)     0.1306  0.1304  0.1303  0.1289  0.1301  0.1301  0.0006  \n",
      "Fit time          0.07    0.08    0.08    0.09    0.08    0.08    0.00    \n",
      "Test time         0.82    0.73    0.70    0.69    0.75    0.74    0.04    \n",
      "\n",
      "Cross-validation results:\n",
      "Mean RMSE: 0.17105387444020723\n",
      "Mean MAE: 0.13009017417429872\n",
      "RMSE: 0.1412\n",
      "MAE:  0.1039\n",
      "\n",
      "Test set results:\n",
      "Test RMSE: 0.1412021854722519\n",
      "Test MAE: 0.1039464004264746\n"
     ]
    }
   ],
   "source": [
    "# Evaluate the model using cross-validation\n",
    "cv_results = cross_validate(best_knn, data, measures=['RMSE', 'MAE'], cv=5, verbose=True)\n",
    "\n",
    "# Print the cross-validation results\n",
    "print(\"\\nCross-validation results:\")\n",
    "print(f\"Mean RMSE: {cv_results['test_rmse'].mean()}\")\n",
    "print(f\"Mean MAE: {cv_results['test_mae'].mean()}\")\n",
    "\n",
    "# Test the model on the test set\n",
    "test_predictions = best_knn.test(testset)\n",
    "\n",
    "# Compute and print test set RMSE and MAE\n",
    "test_rmse = accuracy.rmse(test_predictions, verbose=True)\n",
    "test_mae = accuracy.mae(test_predictions, verbose=True)\n",
    "\n",
    "# Print final evaluation metrics on the test set\n",
    "print(f\"\\nTest set results:\")\n",
    "print(f\"Test RMSE: {test_rmse}\")\n",
    "print(f\"Test MAE: {test_mae}\")"
   ]
  },
  {
   "cell_type": "code",
   "execution_count": 12,
   "metadata": {},
   "outputs": [],
   "source": [
    "# Save the trained model to a file\n",
    "with open('Data/knn_brand_recommendation_model.pkl', 'wb') as model_file:\n",
    "    pickle.dump(best_knn, model_file)"
   ]
  }
 ],
 "metadata": {
  "kernelspec": {
   "display_name": "base",
   "language": "python",
   "name": "python3"
  },
  "language_info": {
   "codemirror_mode": {
    "name": "ipython",
    "version": 3
   },
   "file_extension": ".py",
   "mimetype": "text/x-python",
   "name": "python",
   "nbconvert_exporter": "python",
   "pygments_lexer": "ipython3",
   "version": "3.11.5"
  }
 },
 "nbformat": 4,
 "nbformat_minor": 2
}
