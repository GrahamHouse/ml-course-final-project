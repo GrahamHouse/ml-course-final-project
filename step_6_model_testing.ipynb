{
 "cells": [
  {
   "cell_type": "markdown",
   "metadata": {},
   "source": [
    "# Model Testing"
   ]
  },
  {
   "cell_type": "code",
   "execution_count": 7,
   "metadata": {},
   "outputs": [],
   "source": [
    "import pickle\n",
    "import pandas as pd\n",
    "from surprise import KNNBasic"
   ]
  },
  {
   "cell_type": "code",
   "execution_count": 8,
   "metadata": {},
   "outputs": [],
   "source": [
    "# Load the trained model from the file\n",
    "with open('Data/knn_brand_recommendation_model.pkl', 'rb') as model_file:\n",
    "    loaded_model = pickle.load(model_file)\n",
    "\n",
    "# Define the data files\n",
    "interaction_data_file = 'Data/interaction_data_prepared.csv'\n",
    "\n",
    "# Import data file into dataframe\n",
    "interaction_dataframe = pd.read_csv(interaction_data_file)"
   ]
  },
  {
   "cell_type": "code",
   "execution_count": 9,
   "metadata": {},
   "outputs": [],
   "source": [
    "# Making predictions using the loaded model\n",
    "def get_top_n_recommendations(user_id, n=3):\n",
    "    # Get all brand ids\n",
    "    all_brands = set(interaction_dataframe['BRAND_ID'].unique())\n",
    "    \n",
    "    # Get brands the user has already interacted with\n",
    "    interacted_brands = set(interaction_dataframe[interaction_dataframe['USER_ID'] == user_id]['BRAND_ID'].unique())\n",
    "    \n",
    "    # Get the list of brands the user has not interacted with\n",
    "    non_interacted_brands = all_brands - interacted_brands\n",
    "    \n",
    "    # Predict ratings for all non-interacted brands\n",
    "    predictions = []\n",
    "    for brand_id in non_interacted_brands:\n",
    "        prediction = loaded_model.predict(user_id, brand_id)\n",
    "        predictions.append((brand_id, prediction.est))\n",
    "    \n",
    "    # Sort predictions by estimated rating in descending order\n",
    "    predictions.sort(key=lambda x: x[1], reverse=True)\n",
    "    \n",
    "    # Get the top N brand recommendations\n",
    "    top_n_recommendations = predictions[:n]\n",
    "    \n",
    "    return top_n_recommendations"
   ]
  },
  {
   "cell_type": "code",
   "execution_count": 10,
   "metadata": {},
   "outputs": [
    {
     "name": "stdout",
     "output_type": "stream",
     "text": [
      "Top 3 brand recommendations for user 1480:\n",
      "Brand ID: 43397, Predicted Rating: 0.602661427631381\n",
      "Brand ID: 42946, Predicted Rating: 0.591336011370185\n",
      "Brand ID: 43493, Predicted Rating: 0.5396715323774703\n"
     ]
    }
   ],
   "source": [
    "# Example usage\n",
    "user_id = 1480\n",
    "top_3_recommendations = get_top_n_recommendations(user_id, n=3)\n",
    "\n",
    "# Print the top 3 brand recommendations for the user\n",
    "print(f\"Top 3 brand recommendations for user {user_id}:\")\n",
    "for brand_id, predicted_rating in top_3_recommendations:\n",
    "    print(f\"Brand ID: {brand_id}, Predicted Rating: {predicted_rating}\")"
   ]
  }
 ],
 "metadata": {
  "kernelspec": {
   "display_name": "base",
   "language": "python",
   "name": "python3"
  },
  "language_info": {
   "codemirror_mode": {
    "name": "ipython",
    "version": 3
   },
   "file_extension": ".py",
   "mimetype": "text/x-python",
   "name": "python",
   "nbconvert_exporter": "python",
   "pygments_lexer": "ipython3",
   "version": "3.11.5"
  }
 },
 "nbformat": 4,
 "nbformat_minor": 2
}
