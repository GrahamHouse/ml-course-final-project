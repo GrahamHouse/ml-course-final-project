{
 "cells": [
  {
   "cell_type": "markdown",
   "metadata": {},
   "source": [
    "# Data Preparation"
   ]
  },
  {
   "cell_type": "code",
   "execution_count": 1,
   "metadata": {},
   "outputs": [],
   "source": [
    "import pandas as pd\n",
    "from sklearn.preprocessing import MinMaxScaler\n",
    "from scipy import stats"
   ]
  },
  {
   "cell_type": "code",
   "execution_count": 2,
   "metadata": {},
   "outputs": [],
   "source": [
    "# Define the data files\n",
    "brand_data_file = 'Data/brand_data.csv'\n",
    "user_data_file = 'Data/user_data.csv'\n",
    "interaction_data_file = 'Data/interaction_data.csv'\n",
    "\n",
    "# Import data files into dataframes\n",
    "brand_dataframe = pd.read_csv(brand_data_file)\n",
    "user_dataframe = pd.read_csv(user_data_file)\n",
    "interaction_dataframe = pd.read_csv(interaction_data_file)"
   ]
  },
  {
   "cell_type": "code",
   "execution_count": 3,
   "metadata": {},
   "outputs": [],
   "source": [
    "# Merge interactions with brand features and user features\n",
    "interaction_preperation_dataframe = interaction_dataframe.merge(brand_dataframe, on='BRAND_ID', how='left')\n",
    "interaction_preperation_dataframe = interaction_preperation_dataframe.merge(user_dataframe, on='USER_ID', how='left', suffixes=('_BRAND', '_USER'))"
   ]
  },
  {
   "cell_type": "code",
   "execution_count": 4,
   "metadata": {},
   "outputs": [],
   "source": [
    "# Apply Box-Cox transformation\n",
    "total_interactions_boxcox, fitted_lambda = stats.boxcox(interaction_preperation_dataframe['TOTAL_INTERACTIONS'])\n",
    "\n",
    "interaction_preperation_dataframe['TOTAL_INTERACTIONS_BOXCOX'] = total_interactions_boxcox\n",
    "\n",
    "# Normalise the Box-Cox values\n",
    "interaction_preperation_dataframe['TOTAL_INTERACTIONS_BOXCOX_NORMALIZED'] = MinMaxScaler().fit_transform(interaction_preperation_dataframe[['TOTAL_INTERACTIONS_BOXCOX']])\n",
    "\n",
    "# Find the minimum non-zero value\n",
    "min_non_zero_value = interaction_preperation_dataframe[interaction_preperation_dataframe['TOTAL_INTERACTIONS_BOXCOX_NORMALIZED'] > 0]['TOTAL_INTERACTIONS_BOXCOX_NORMALIZED'].min()\n",
    "\n",
    "# Replace zero values with the minimum non-zero value\n",
    "interaction_preperation_dataframe.loc[interaction_preperation_dataframe['TOTAL_INTERACTIONS_BOXCOX_NORMALIZED'] == 0, 'TOTAL_INTERACTIONS_BOXCOX_NORMALIZED'] = min_non_zero_value\n"
   ]
  },
  {
   "cell_type": "code",
   "execution_count": 5,
   "metadata": {},
   "outputs": [],
   "source": [
    "# We're weighing after normalisation because of the skewness of the data\n",
    "interaction_preperation_dataframe['TOTAL_WEIGHT'] = 0\n",
    "\n",
    "# Define the weight for affiliate use\n",
    "affiliate_weight = .5\n",
    "\n",
    "# Increase the total weight where both USES_AFFILIATE and IS_AFFILIATE are true\n",
    "interaction_preperation_dataframe['TOTAL_INTERACTIONS_BOXCOX_NORMALIZED_WEIGHTED'] = interaction_preperation_dataframe['TOTAL_INTERACTIONS_BOXCOX_NORMALIZED']\n",
    "affiliate_condition = (interaction_preperation_dataframe['IS_AN_AFFILIATE'] == 1) & (interaction_preperation_dataframe['USES_AFFILIATES'] == 1)\n",
    "interaction_preperation_dataframe.loc[affiliate_condition, 'TOTAL_WEIGHT'] += affiliate_weight\n",
    "\n",
    "# Define the weight for matching territories\n",
    "territory_weight = .1\n",
    "\n",
    "# Increase the total weight where the user and brand territory match\n",
    "interaction_preperation_dataframe['TOTAL_INTERACTIONS_BOXCOX_NORMALIZED_WEIGHTED'] = interaction_preperation_dataframe['TOTAL_INTERACTIONS_BOXCOX_NORMALIZED']\n",
    "affiliate_condition = (interaction_preperation_dataframe['TERRITORY_ID_BRAND'] == interaction_preperation_dataframe['TERRITORY_ID_USER'])\n",
    "interaction_preperation_dataframe.loc[affiliate_condition, 'TOTAL_WEIGHT'] += territory_weight\n",
    "\n",
    "# Define the weight if client and user have past collaborations\n",
    "collaborations_weight = .3\n",
    "\n",
    "# Increase the total weight where both USES_AFFILIATE and IS_AFFILIATE are true\n",
    "interaction_preperation_dataframe['TOTAL_INTERACTIONS_BOXCOX_NORMALIZED_WEIGHTED'] = interaction_preperation_dataframe['TOTAL_INTERACTIONS_BOXCOX_NORMALIZED']\n",
    "affiliate_condition = (interaction_preperation_dataframe['TOTAL_COLLABORATIONS_BRAND'] > 0) & (interaction_preperation_dataframe['TOTAL_COLLABORATIONS_USER'] > 0)\n",
    "interaction_preperation_dataframe.loc[affiliate_condition, 'TOTAL_WEIGHT'] += affiliate_weight"
   ]
  },
  {
   "cell_type": "code",
   "execution_count": 6,
   "metadata": {},
   "outputs": [],
   "source": [
    "interaction_preperation_dataframe['TOTAL_INTERACTIONS_BOXCOX_NORMALIZED_WEIGHTED'] *= (1 + interaction_preperation_dataframe['TOTAL_WEIGHT'])"
   ]
  },
  {
   "cell_type": "code",
   "execution_count": 7,
   "metadata": {},
   "outputs": [],
   "source": [
    "# Drop unecessary fields\n",
    "interaction_final_dataframe = interaction_preperation_dataframe[['USER_ID', 'BRAND_ID', 'TOTAL_INTERACTIONS_BOXCOX_NORMALIZED_WEIGHTED']]\n",
    "interaction_final_dataframe = interaction_final_dataframe.rename(columns={'TOTAL_INTERACTIONS_BOXCOX_NORMALIZED_WEIGHTED': 'SCORE'})\n",
    "\n",
    "# Define the prepared data file\n",
    "interaction_data_file = 'Data/interaction_data_prepared.csv'\n",
    "\n",
    "# Save interactions DataFrame to CSV\n",
    "interaction_final_dataframe.to_csv(interaction_data_file, index=False)"
   ]
  }
 ],
 "metadata": {
  "kernelspec": {
   "display_name": "base",
   "language": "python",
   "name": "python3"
  },
  "language_info": {
   "codemirror_mode": {
    "name": "ipython",
    "version": 3
   },
   "file_extension": ".py",
   "mimetype": "text/x-python",
   "name": "python",
   "nbconvert_exporter": "python",
   "pygments_lexer": "ipython3",
   "version": "3.11.5"
  }
 },
 "nbformat": 4,
 "nbformat_minor": 2
}
