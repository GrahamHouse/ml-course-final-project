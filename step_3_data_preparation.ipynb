{
 "cells": [
  {
   "cell_type": "markdown",
   "metadata": {},
   "source": [
    "# Data Preparation\n",
    "\n",
    "This file will prepare the data based on our findings from data exploration as well as applying domain knowledge about our industry, brands, users, and what we know contributes to successful matches."
   ]
  },
  {
   "cell_type": "code",
   "execution_count": 8,
   "metadata": {},
   "outputs": [],
   "source": [
    "import pandas as pd\n",
    "from sklearn.preprocessing import MinMaxScaler\n",
    "from scipy import stats"
   ]
  },
  {
   "cell_type": "code",
   "execution_count": 11,
   "metadata": {},
   "outputs": [],
   "source": [
    "# Define the data file names\n",
    "brand_data_file = 'data/brand_data_sanitised.csv'\n",
    "user_data_file = 'data/user_data_sanitised.csv'\n",
    "interaction_data_file = 'data/interaction_data_sanitised.csv'\n",
    "\n",
    "# Import data files into dataframes\n",
    "brand_dataframe = pd.read_csv(brand_data_file)\n",
    "user_dataframe = pd.read_csv(user_data_file)\n",
    "interaction_dataframe = pd.read_csv(interaction_data_file)"
   ]
  },
  {
   "cell_type": "code",
   "execution_count": 13,
   "metadata": {},
   "outputs": [],
   "source": [
    "# Remove outliers\n",
    "interaction_dataframe = interaction_dataframe[interaction_dataframe['TOTAL_INTERACTIONS'] <= 100]"
   ]
  },
  {
   "cell_type": "code",
   "execution_count": 14,
   "metadata": {},
   "outputs": [],
   "source": [
    "# Merge interactions with brand features and user features\n",
    "interaction_preperation_dataframe = interaction_dataframe.merge(brand_dataframe, on='BRAND_ID', how='inner')\n",
    "interaction_preperation_dataframe = interaction_preperation_dataframe.merge(user_dataframe, on='USER_ID', how='inner', suffixes=('_BRAND', '_USER'))\n"
   ]
  },
  {
   "cell_type": "code",
   "execution_count": 15,
   "metadata": {},
   "outputs": [],
   "source": [
    "# Apply Box-Cox transformation to attempt to improve the distribution of interactions as they are so scewed\n",
    "total_interactions_boxcox, fitted_lambda = stats.boxcox(interaction_preperation_dataframe['TOTAL_INTERACTIONS'])\n",
    "\n",
    "interaction_preperation_dataframe['TOTAL_INTERACTIONS_BOXCOX'] = total_interactions_boxcox\n",
    "\n",
    "# Normalise the Box-Cox values\n",
    "interaction_preperation_dataframe['TOTAL_INTERACTIONS_BOXCOX_NORMALISED'] = MinMaxScaler().fit_transform(interaction_preperation_dataframe[['TOTAL_INTERACTIONS_BOXCOX']])\n",
    "\n",
    "# Find the minimum non-zero value\n",
    "min_non_zero_value = interaction_preperation_dataframe[interaction_preperation_dataframe['TOTAL_INTERACTIONS_BOXCOX_NORMALISED'] > 0]['TOTAL_INTERACTIONS_BOXCOX_NORMALISED'].min()\n",
    "\n",
    "# Replace zero values with the minimum non-zero value as we do not want 0 scores in our training\n",
    "interaction_preperation_dataframe.loc[interaction_preperation_dataframe['TOTAL_INTERACTIONS_BOXCOX_NORMALISED'] == 0, 'TOTAL_INTERACTIONS_BOXCOX_NORMALISED'] = min_non_zero_value\n"
   ]
  },
  {
   "cell_type": "code",
   "execution_count": 16,
   "metadata": {},
   "outputs": [],
   "source": [
    "# We're weighting the scroes after normalisation (rather than before) because of the large disctribution of values\n",
    "interaction_preperation_dataframe['TOTAL_WEIGHT'] = 0\n",
    "\n",
    "# Add weight for affiliate use\n",
    "affiliate_weight = .5\n",
    "interaction_preperation_dataframe['TOTAL_INTERACTIONS_BOXCOX_NORMALISED_WEIGHTED'] = interaction_preperation_dataframe['TOTAL_INTERACTIONS_BOXCOX_NORMALISED']\n",
    "affiliate_condition = (interaction_preperation_dataframe['IS_AN_AFFILIATE'] == 1) & (interaction_preperation_dataframe['USES_AFFILIATES'] == 1)\n",
    "interaction_preperation_dataframe.loc[affiliate_condition, 'TOTAL_WEIGHT'] += affiliate_weight\n",
    "\n",
    "# Add weight for matching territories\n",
    "territory_weight = .1\n",
    "interaction_preperation_dataframe['TOTAL_INTERACTIONS_BOXCOX_NORMALISED_WEIGHTED'] = interaction_preperation_dataframe['TOTAL_INTERACTIONS_BOXCOX_NORMALISED']\n",
    "affiliate_condition = (interaction_preperation_dataframe['TERRITORY_ID_BRAND'] == interaction_preperation_dataframe['TERRITORY_ID_USER'])\n",
    "interaction_preperation_dataframe.loc[affiliate_condition, 'TOTAL_WEIGHT'] += territory_weight\n",
    "\n",
    "# Add weight if client and user have past collaborations\n",
    "collaborations_weight = .3\n",
    "interaction_preperation_dataframe['TOTAL_INTERACTIONS_BOXCOX_NORMALISED_WEIGHTED'] = interaction_preperation_dataframe['TOTAL_INTERACTIONS_BOXCOX_NORMALISED']\n",
    "affiliate_condition = (interaction_preperation_dataframe['TOTAL_COLLABORATIONS_BRAND'] > 0) & (interaction_preperation_dataframe['TOTAL_COLLABORATIONS_USER'] > 0)\n",
    "interaction_preperation_dataframe.loc[affiliate_condition, 'TOTAL_WEIGHT'] += affiliate_weight\n",
    "\n",
    "# Add weight based on the domain authority of the client\n",
    "scaler = MinMaxScaler(feature_range=(0, 0.1))\n",
    "interaction_preperation_dataframe['DOMAIN_WEIGHT'] = scaler.fit_transform(interaction_preperation_dataframe[['DOMAIN_AUTHORITY']])\n",
    "interaction_preperation_dataframe['TOTAL_WEIGHT'] += interaction_preperation_dataframe['DOMAIN_WEIGHT']"
   ]
  },
  {
   "cell_type": "code",
   "execution_count": 17,
   "metadata": {},
   "outputs": [],
   "source": [
    "# Apply the total weight to the normalised score\n",
    "interaction_preperation_dataframe['TOTAL_INTERACTIONS_BOXCOX_NORMALISED_WEIGHTED'] *= (1 + interaction_preperation_dataframe['TOTAL_WEIGHT'])"
   ]
  },
  {
   "cell_type": "code",
   "execution_count": 18,
   "metadata": {},
   "outputs": [],
   "source": [
    "# Drop unecessary fields and rename the normalised weighted interaction to 'score' for clarity\n",
    "interaction_final_dataframe = interaction_preperation_dataframe[['USER_ID', 'BRAND_ID', 'TOTAL_INTERACTIONS_BOXCOX_NORMALISED_WEIGHTED']]\n",
    "interaction_final_dataframe = interaction_final_dataframe.rename(columns={'TOTAL_INTERACTIONS_BOXCOX_NORMALISED_WEIGHTED': 'SCORE'})\n",
    "\n",
    "# Define the prepared data file\n",
    "interaction_data_file = 'data/interaction_data_prepared.csv'\n",
    "\n",
    "# Save prepared interactions DataFrame to CSV\n",
    "interaction_final_dataframe.to_csv(interaction_data_file, index=False)"
   ]
  }
 ],
 "metadata": {
  "kernelspec": {
   "display_name": "base",
   "language": "python",
   "name": "python3"
  },
  "language_info": {
   "codemirror_mode": {
    "name": "ipython",
    "version": 3
   },
   "file_extension": ".py",
   "mimetype": "text/x-python",
   "name": "python",
   "nbconvert_exporter": "python",
   "pygments_lexer": "ipython3",
   "version": "3.11.5"
  }
 },
 "nbformat": 4,
 "nbformat_minor": 2
}
